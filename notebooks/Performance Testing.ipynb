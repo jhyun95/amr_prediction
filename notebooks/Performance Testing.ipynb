{
 "cells": [
  {
   "cell_type": "code",
   "execution_count": 2,
   "metadata": {
    "collapsed": true
   },
   "outputs": [],
   "source": [
    "import pandas as pd\n",
    "import numpy as np\n",
    "import matplotlib.pyplot as plt\n",
    "import sys, os\n",
    "sys.path.append('../scripts')\n",
    "import ml_gwas_dev"
   ]
  },
  {
   "cell_type": "code",
   "execution_count": 4,
   "metadata": {},
   "outputs": [
    {
     "name": "stdout",
     "output_type": "stream",
     "text": [
      "Non-core genes: (288, 2968)\n",
      "Core-gene alleles: (288, 20390)\n",
      "Feature table: (288, 23358)\n"
     ]
    }
   ],
   "source": [
    "''' Load the gene, allele, and AMR binary matrices '''\n",
    "antibiotic = 'ciprofloxacin'\n",
    "df_features, df_amr = ml_gwas_dev.__prepare_amr_data__(\n",
    "    allele_table_path='../sample_data/strain_by_allele_binary_SA.csv.gz', \n",
    "    amr_path='../sample_data/strain_by_amr_SA.csv.gz', \n",
    "    antibiotic=antibiotic, \n",
    "    gene_path='../sample_data/strain_by_gene_SA.csv.gz', core_cutoff=10)"
   ]
  },
  {
   "cell_type": "code",
   "execution_count": 29,
   "metadata": {},
   "outputs": [
    {
     "name": "stdout",
     "output_type": "stream",
     "text": [
      "Iteration 50\n",
      "Iteration 100\n",
      "Iteration 150\n",
      "Iteration 200\n",
      "Iteration 250\n",
      "Iteration 300\n",
      "Iteration 350\n",
      "Iteration 400\n",
      "Iteration 450\n",
      "Iteration 500\n",
      "CPU times: user 50.1 s, sys: 116 ms, total: 50.3 s\n",
      "Wall time: 50.2 s\n"
     ]
    }
   ],
   "source": [
    "%%time\n",
    "''' No parallel processing '''\n",
    "reload(ml_gwas_dev)\n",
    "ensemble = ml_gwas_dev.RSE(num_models=500, bootstrap_instances=0.8, bootstrap_features=0.5)\n",
    "ensemble.fit(df_features.values, df_amr.values)"
   ]
  },
  {
   "cell_type": "code",
   "execution_count": 9,
   "metadata": {},
   "outputs": [
    {
     "name": "stdout",
     "output_type": "stream",
     "text": [
      "Sampling instances and features...\n",
      "Training modesl...\n"
     ]
    },
    {
     "name": "stderr",
     "output_type": "stream",
     "text": [
      "[Parallel(n_jobs=8)]: Using backend LokyBackend with 8 concurrent workers.\n",
      "[Parallel(n_jobs=8)]: Done  34 tasks      | elapsed:    5.0s\n",
      "[Parallel(n_jobs=8)]: Done 184 tasks      | elapsed:   19.9s\n",
      "[Parallel(n_jobs=8)]: Done 434 tasks      | elapsed:   37.9s\n",
      "[Parallel(n_jobs=8)]: Done 500 out of 500 | elapsed:   41.5s finished\n"
     ]
    }
   ],
   "source": [
    "''' joblib: prefer=processes '''\n",
    "reload(ml_gwas_dev)\n",
    "ensemble = ml_gwas_dev.RSE(num_models=500, bootstrap_instances=0.8, bootstrap_features=0.5)\n",
    "ensemble.fit_parallel(df_features.values, df_amr.values, cores=8)"
   ]
  },
  {
   "cell_type": "code",
   "execution_count": 12,
   "metadata": {},
   "outputs": [
    {
     "name": "stdout",
     "output_type": "stream",
     "text": [
      "Sampling instances and features...\n",
      "Training modesl...\n"
     ]
    },
    {
     "name": "stderr",
     "output_type": "stream",
     "text": [
      "[Parallel(n_jobs=8)]: Using backend ThreadingBackend with 8 concurrent workers.\n",
      "[Parallel(n_jobs=8)]: Done  25 tasks      | elapsed:    3.0s\n",
      "[Parallel(n_jobs=8)]: Done 146 tasks      | elapsed:   10.4s\n",
      "[Parallel(n_jobs=8)]: Done 349 tasks      | elapsed:   22.9s\n",
      "[Parallel(n_jobs=8)]: Done 500 out of 500 | elapsed:   31.0s finished\n"
     ]
    }
   ],
   "source": [
    "''' joblib: prefer=threads '''\n",
    "reload(ml_gwas_dev)\n",
    "ensemble = ml_gwas_dev.RSE(num_models=500, bootstrap_instances=0.8, bootstrap_features=0.5)\n",
    "ensemble.fit_parallel(df_features.values, df_amr.values, cores=8)"
   ]
  },
  {
   "cell_type": "code",
   "execution_count": 28,
   "metadata": {},
   "outputs": [
    {
     "name": "stdout",
     "output_type": "stream",
     "text": [
      "Sampling instances and features...\n",
      "Training models...\n"
     ]
    },
    {
     "name": "stderr",
     "output_type": "stream",
     "text": [
      "[Parallel(n_jobs=16)]: Using backend ThreadingBackend with 16 concurrent workers.\n",
      "[Parallel(n_jobs=16)]: Done   9 tasks      | elapsed:    2.9s\n",
      "[Parallel(n_jobs=16)]: Done 130 tasks      | elapsed:   14.0s\n",
      "[Parallel(n_jobs=16)]: Done 333 tasks      | elapsed:   28.5s\n",
      "[Parallel(n_jobs=16)]: Done 500 out of 500 | elapsed:   36.8s finished\n"
     ]
    }
   ],
   "source": [
    "''' joblib: prefer=threads '''\n",
    "reload(ml_gwas_dev)\n",
    "ensemble = ml_gwas_dev.RSE(num_models=500, bootstrap_instances=0.8, bootstrap_features=0.5)\n",
    "ensemble.fit_parallel(df_features.values, df_amr.values, cores=16)"
   ]
  },
  {
   "cell_type": "code",
   "execution_count": 30,
   "metadata": {},
   "outputs": [
    {
     "name": "stdout",
     "output_type": "stream",
     "text": [
      "Sampling instances and features...\n",
      "Training models...\n"
     ]
    },
    {
     "name": "stderr",
     "output_type": "stream",
     "text": [
      "[Parallel(n_jobs=1)]: Using backend SequentialBackend with 1 concurrent workers.\n",
      "[Parallel(n_jobs=1)]: Done   1 out of   1 | elapsed:    0.1s remaining:    0.0s\n",
      "[Parallel(n_jobs=1)]: Done 500 out of 500 | elapsed:   45.7s finished\n"
     ]
    }
   ],
   "source": [
    "''' joblib: prefer=threads '''\n",
    "reload(ml_gwas_dev)\n",
    "ensemble = ml_gwas_dev.RSE(num_models=500, bootstrap_instances=0.8, bootstrap_features=0.5)\n",
    "ensemble.fit_parallel(df_features.values, df_amr.values, cores=1)"
   ]
  },
  {
   "cell_type": "code",
   "execution_count": 11,
   "metadata": {},
   "outputs": [
    {
     "data": {
      "text/html": [
       "<div>\n",
       "<style scoped>\n",
       "    .dataframe tbody tr th:only-of-type {\n",
       "        vertical-align: middle;\n",
       "    }\n",
       "\n",
       "    .dataframe tbody tr th {\n",
       "        vertical-align: top;\n",
       "    }\n",
       "\n",
       "    .dataframe thead th {\n",
       "        text-align: right;\n",
       "    }\n",
       "</style>\n",
       "<table border=\"1\" class=\"dataframe\">\n",
       "  <thead>\n",
       "    <tr style=\"text-align: right;\">\n",
       "      <th></th>\n",
       "      <th>Model_1</th>\n",
       "      <th>Model_2</th>\n",
       "      <th>Model_3</th>\n",
       "      <th>Model_4</th>\n",
       "      <th>Model_5</th>\n",
       "      <th>Model_6</th>\n",
       "      <th>Model_7</th>\n",
       "      <th>Model_8</th>\n",
       "      <th>Model_9</th>\n",
       "      <th>Model_10</th>\n",
       "      <th>...</th>\n",
       "      <th>Model_491</th>\n",
       "      <th>Model_492</th>\n",
       "      <th>Model_493</th>\n",
       "      <th>Model_494</th>\n",
       "      <th>Model_495</th>\n",
       "      <th>Model_496</th>\n",
       "      <th>Model_497</th>\n",
       "      <th>Model_498</th>\n",
       "      <th>Model_499</th>\n",
       "      <th>Model_500</th>\n",
       "    </tr>\n",
       "  </thead>\n",
       "  <tbody>\n",
       "    <tr>\n",
       "      <th>Cluster_126_Allele_1</th>\n",
       "      <td>NaN</td>\n",
       "      <td>-0.616476</td>\n",
       "      <td>-1.602933</td>\n",
       "      <td>-0.636803</td>\n",
       "      <td>NaN</td>\n",
       "      <td>-0.712542</td>\n",
       "      <td>NaN</td>\n",
       "      <td>-0.467172</td>\n",
       "      <td>NaN</td>\n",
       "      <td>-0.073412</td>\n",
       "      <td>...</td>\n",
       "      <td>NaN</td>\n",
       "      <td>NaN</td>\n",
       "      <td>NaN</td>\n",
       "      <td>NaN</td>\n",
       "      <td>NaN</td>\n",
       "      <td>NaN</td>\n",
       "      <td>NaN</td>\n",
       "      <td>NaN</td>\n",
       "      <td>NaN</td>\n",
       "      <td>NaN</td>\n",
       "    </tr>\n",
       "    <tr>\n",
       "      <th>Cluster_279_Allele_0</th>\n",
       "      <td>0.000000</td>\n",
       "      <td>NaN</td>\n",
       "      <td>0.000000</td>\n",
       "      <td>-0.831678</td>\n",
       "      <td>NaN</td>\n",
       "      <td>0.000000</td>\n",
       "      <td>0.000000</td>\n",
       "      <td>-0.962353</td>\n",
       "      <td>NaN</td>\n",
       "      <td>NaN</td>\n",
       "      <td>...</td>\n",
       "      <td>NaN</td>\n",
       "      <td>-0.838870</td>\n",
       "      <td>-0.213808</td>\n",
       "      <td>NaN</td>\n",
       "      <td>NaN</td>\n",
       "      <td>NaN</td>\n",
       "      <td>NaN</td>\n",
       "      <td>-1.598456</td>\n",
       "      <td>-0.698527</td>\n",
       "      <td>NaN</td>\n",
       "    </tr>\n",
       "    <tr>\n",
       "      <th>Cluster_2243_Allele_0</th>\n",
       "      <td>NaN</td>\n",
       "      <td>0.000000</td>\n",
       "      <td>0.000000</td>\n",
       "      <td>NaN</td>\n",
       "      <td>NaN</td>\n",
       "      <td>-0.225536</td>\n",
       "      <td>NaN</td>\n",
       "      <td>0.000000</td>\n",
       "      <td>-0.720072</td>\n",
       "      <td>-1.072115</td>\n",
       "      <td>...</td>\n",
       "      <td>NaN</td>\n",
       "      <td>NaN</td>\n",
       "      <td>-0.478861</td>\n",
       "      <td>-1.233946</td>\n",
       "      <td>0.000000</td>\n",
       "      <td>NaN</td>\n",
       "      <td>NaN</td>\n",
       "      <td>0.000000</td>\n",
       "      <td>NaN</td>\n",
       "      <td>-0.875676</td>\n",
       "    </tr>\n",
       "    <tr>\n",
       "      <th>Cluster_1696_Allele_0</th>\n",
       "      <td>NaN</td>\n",
       "      <td>-0.189193</td>\n",
       "      <td>0.000000</td>\n",
       "      <td>NaN</td>\n",
       "      <td>-0.448464</td>\n",
       "      <td>NaN</td>\n",
       "      <td>-0.069117</td>\n",
       "      <td>NaN</td>\n",
       "      <td>0.000000</td>\n",
       "      <td>NaN</td>\n",
       "      <td>...</td>\n",
       "      <td>NaN</td>\n",
       "      <td>NaN</td>\n",
       "      <td>NaN</td>\n",
       "      <td>NaN</td>\n",
       "      <td>NaN</td>\n",
       "      <td>NaN</td>\n",
       "      <td>NaN</td>\n",
       "      <td>NaN</td>\n",
       "      <td>0.000000</td>\n",
       "      <td>NaN</td>\n",
       "    </tr>\n",
       "    <tr>\n",
       "      <th>Cluster_2617_Allele_0</th>\n",
       "      <td>-0.487544</td>\n",
       "      <td>NaN</td>\n",
       "      <td>NaN</td>\n",
       "      <td>NaN</td>\n",
       "      <td>-0.480344</td>\n",
       "      <td>-0.264983</td>\n",
       "      <td>NaN</td>\n",
       "      <td>NaN</td>\n",
       "      <td>NaN</td>\n",
       "      <td>NaN</td>\n",
       "      <td>...</td>\n",
       "      <td>NaN</td>\n",
       "      <td>NaN</td>\n",
       "      <td>-0.371539</td>\n",
       "      <td>0.000000</td>\n",
       "      <td>NaN</td>\n",
       "      <td>-0.561587</td>\n",
       "      <td>0.000000</td>\n",
       "      <td>NaN</td>\n",
       "      <td>0.000000</td>\n",
       "      <td>NaN</td>\n",
       "    </tr>\n",
       "    <tr>\n",
       "      <th>Cluster_1028_Allele_0</th>\n",
       "      <td>NaN</td>\n",
       "      <td>NaN</td>\n",
       "      <td>NaN</td>\n",
       "      <td>0.000000</td>\n",
       "      <td>NaN</td>\n",
       "      <td>0.000000</td>\n",
       "      <td>NaN</td>\n",
       "      <td>0.000000</td>\n",
       "      <td>NaN</td>\n",
       "      <td>NaN</td>\n",
       "      <td>...</td>\n",
       "      <td>-0.443479</td>\n",
       "      <td>-0.284452</td>\n",
       "      <td>-0.228301</td>\n",
       "      <td>NaN</td>\n",
       "      <td>NaN</td>\n",
       "      <td>0.000000</td>\n",
       "      <td>-0.001574</td>\n",
       "      <td>0.000000</td>\n",
       "      <td>NaN</td>\n",
       "      <td>NaN</td>\n",
       "    </tr>\n",
       "    <tr>\n",
       "      <th>Cluster_1780_Allele_0</th>\n",
       "      <td>0.000000</td>\n",
       "      <td>0.000000</td>\n",
       "      <td>0.000000</td>\n",
       "      <td>NaN</td>\n",
       "      <td>NaN</td>\n",
       "      <td>NaN</td>\n",
       "      <td>NaN</td>\n",
       "      <td>NaN</td>\n",
       "      <td>NaN</td>\n",
       "      <td>NaN</td>\n",
       "      <td>...</td>\n",
       "      <td>NaN</td>\n",
       "      <td>NaN</td>\n",
       "      <td>NaN</td>\n",
       "      <td>0.000000</td>\n",
       "      <td>-1.098092</td>\n",
       "      <td>NaN</td>\n",
       "      <td>-0.518926</td>\n",
       "      <td>-0.000774</td>\n",
       "      <td>-0.051232</td>\n",
       "      <td>NaN</td>\n",
       "    </tr>\n",
       "    <tr>\n",
       "      <th>Cluster_4362_Allele_0</th>\n",
       "      <td>NaN</td>\n",
       "      <td>-0.196654</td>\n",
       "      <td>0.000000</td>\n",
       "      <td>0.000000</td>\n",
       "      <td>NaN</td>\n",
       "      <td>0.000000</td>\n",
       "      <td>NaN</td>\n",
       "      <td>0.000000</td>\n",
       "      <td>0.000000</td>\n",
       "      <td>NaN</td>\n",
       "      <td>...</td>\n",
       "      <td>0.000000</td>\n",
       "      <td>0.000000</td>\n",
       "      <td>NaN</td>\n",
       "      <td>0.000000</td>\n",
       "      <td>NaN</td>\n",
       "      <td>-0.529948</td>\n",
       "      <td>NaN</td>\n",
       "      <td>NaN</td>\n",
       "      <td>NaN</td>\n",
       "      <td>0.000000</td>\n",
       "    </tr>\n",
       "    <tr>\n",
       "      <th>Cluster_168_Allele_1</th>\n",
       "      <td>NaN</td>\n",
       "      <td>-0.153867</td>\n",
       "      <td>0.000000</td>\n",
       "      <td>0.000000</td>\n",
       "      <td>-0.062890</td>\n",
       "      <td>NaN</td>\n",
       "      <td>-0.017804</td>\n",
       "      <td>0.000000</td>\n",
       "      <td>-0.389885</td>\n",
       "      <td>NaN</td>\n",
       "      <td>...</td>\n",
       "      <td>0.000000</td>\n",
       "      <td>NaN</td>\n",
       "      <td>0.000000</td>\n",
       "      <td>-0.117227</td>\n",
       "      <td>0.000000</td>\n",
       "      <td>NaN</td>\n",
       "      <td>NaN</td>\n",
       "      <td>0.000000</td>\n",
       "      <td>NaN</td>\n",
       "      <td>NaN</td>\n",
       "    </tr>\n",
       "    <tr>\n",
       "      <th>Cluster_92_Allele_22</th>\n",
       "      <td>NaN</td>\n",
       "      <td>NaN</td>\n",
       "      <td>NaN</td>\n",
       "      <td>0.000000</td>\n",
       "      <td>NaN</td>\n",
       "      <td>NaN</td>\n",
       "      <td>NaN</td>\n",
       "      <td>0.000000</td>\n",
       "      <td>0.000000</td>\n",
       "      <td>0.000000</td>\n",
       "      <td>...</td>\n",
       "      <td>NaN</td>\n",
       "      <td>0.000000</td>\n",
       "      <td>NaN</td>\n",
       "      <td>NaN</td>\n",
       "      <td>0.000000</td>\n",
       "      <td>NaN</td>\n",
       "      <td>NaN</td>\n",
       "      <td>NaN</td>\n",
       "      <td>0.000000</td>\n",
       "      <td>NaN</td>\n",
       "    </tr>\n",
       "  </tbody>\n",
       "</table>\n",
       "<p>10 rows × 500 columns</p>\n",
       "</div>"
      ],
      "text/plain": [
       "                        Model_1   Model_2   Model_3   Model_4   Model_5  \\\n",
       "Cluster_126_Allele_1        NaN -0.616476 -1.602933 -0.636803       NaN   \n",
       "Cluster_279_Allele_0   0.000000       NaN  0.000000 -0.831678       NaN   \n",
       "Cluster_2243_Allele_0       NaN  0.000000  0.000000       NaN       NaN   \n",
       "Cluster_1696_Allele_0       NaN -0.189193  0.000000       NaN -0.448464   \n",
       "Cluster_2617_Allele_0 -0.487544       NaN       NaN       NaN -0.480344   \n",
       "Cluster_1028_Allele_0       NaN       NaN       NaN  0.000000       NaN   \n",
       "Cluster_1780_Allele_0  0.000000  0.000000  0.000000       NaN       NaN   \n",
       "Cluster_4362_Allele_0       NaN -0.196654  0.000000  0.000000       NaN   \n",
       "Cluster_168_Allele_1        NaN -0.153867  0.000000  0.000000 -0.062890   \n",
       "Cluster_92_Allele_22        NaN       NaN       NaN  0.000000       NaN   \n",
       "\n",
       "                        Model_6   Model_7   Model_8   Model_9  Model_10  \\\n",
       "Cluster_126_Allele_1  -0.712542       NaN -0.467172       NaN -0.073412   \n",
       "Cluster_279_Allele_0   0.000000  0.000000 -0.962353       NaN       NaN   \n",
       "Cluster_2243_Allele_0 -0.225536       NaN  0.000000 -0.720072 -1.072115   \n",
       "Cluster_1696_Allele_0       NaN -0.069117       NaN  0.000000       NaN   \n",
       "Cluster_2617_Allele_0 -0.264983       NaN       NaN       NaN       NaN   \n",
       "Cluster_1028_Allele_0  0.000000       NaN  0.000000       NaN       NaN   \n",
       "Cluster_1780_Allele_0       NaN       NaN       NaN       NaN       NaN   \n",
       "Cluster_4362_Allele_0  0.000000       NaN  0.000000  0.000000       NaN   \n",
       "Cluster_168_Allele_1        NaN -0.017804  0.000000 -0.389885       NaN   \n",
       "Cluster_92_Allele_22        NaN       NaN  0.000000  0.000000  0.000000   \n",
       "\n",
       "                         ...      Model_491  Model_492  Model_493  Model_494  \\\n",
       "Cluster_126_Allele_1     ...            NaN        NaN        NaN        NaN   \n",
       "Cluster_279_Allele_0     ...            NaN  -0.838870  -0.213808        NaN   \n",
       "Cluster_2243_Allele_0    ...            NaN        NaN  -0.478861  -1.233946   \n",
       "Cluster_1696_Allele_0    ...            NaN        NaN        NaN        NaN   \n",
       "Cluster_2617_Allele_0    ...            NaN        NaN  -0.371539   0.000000   \n",
       "Cluster_1028_Allele_0    ...      -0.443479  -0.284452  -0.228301        NaN   \n",
       "Cluster_1780_Allele_0    ...            NaN        NaN        NaN   0.000000   \n",
       "Cluster_4362_Allele_0    ...       0.000000   0.000000        NaN   0.000000   \n",
       "Cluster_168_Allele_1     ...       0.000000        NaN   0.000000  -0.117227   \n",
       "Cluster_92_Allele_22     ...            NaN   0.000000        NaN        NaN   \n",
       "\n",
       "                       Model_495  Model_496  Model_497  Model_498  Model_499  \\\n",
       "Cluster_126_Allele_1         NaN        NaN        NaN        NaN        NaN   \n",
       "Cluster_279_Allele_0         NaN        NaN        NaN  -1.598456  -0.698527   \n",
       "Cluster_2243_Allele_0   0.000000        NaN        NaN   0.000000        NaN   \n",
       "Cluster_1696_Allele_0        NaN        NaN        NaN        NaN   0.000000   \n",
       "Cluster_2617_Allele_0        NaN  -0.561587   0.000000        NaN   0.000000   \n",
       "Cluster_1028_Allele_0        NaN   0.000000  -0.001574   0.000000        NaN   \n",
       "Cluster_1780_Allele_0  -1.098092        NaN  -0.518926  -0.000774  -0.051232   \n",
       "Cluster_4362_Allele_0        NaN  -0.529948        NaN        NaN        NaN   \n",
       "Cluster_168_Allele_1    0.000000        NaN        NaN   0.000000        NaN   \n",
       "Cluster_92_Allele_22    0.000000        NaN        NaN        NaN   0.000000   \n",
       "\n",
       "                       Model_500  \n",
       "Cluster_126_Allele_1         NaN  \n",
       "Cluster_279_Allele_0         NaN  \n",
       "Cluster_2243_Allele_0  -0.875676  \n",
       "Cluster_1696_Allele_0        NaN  \n",
       "Cluster_2617_Allele_0        NaN  \n",
       "Cluster_1028_Allele_0        NaN  \n",
       "Cluster_1780_Allele_0        NaN  \n",
       "Cluster_4362_Allele_0   0.000000  \n",
       "Cluster_168_Allele_1         NaN  \n",
       "Cluster_92_Allele_22         NaN  \n",
       "\n",
       "[10 rows x 500 columns]"
      ]
     },
     "execution_count": 11,
     "metadata": {},
     "output_type": "execute_result"
    }
   ],
   "source": [
    "df_coefs = ensemble.get_coefficient_matrix(feature_names=df_features.columns,reduced=True, order=-1)\n",
    "df_coefs.head(10)"
   ]
  },
  {
   "cell_type": "markdown",
   "metadata": {
    "collapsed": true
   },
   "source": [
    "### Try larger P. aeruginosa dataset"
   ]
  },
  {
   "cell_type": "code",
   "execution_count": 33,
   "metadata": {},
   "outputs": [
    {
     "name": "stdout",
     "output_type": "stream",
     "text": [
      "Non-core genes: (456, 23155)\n",
      "Core-gene alleles: (456, 155350)\n",
      "Feature table: (456, 178505)\n"
     ]
    }
   ],
   "source": [
    "''' Load the gene, allele, and AMR binary matrices '''\n",
    "df_features_PA, df_amr_PA = ml_gwas_dev.__prepare_amr_data__(\n",
    "    allele_table_path='../../../data_PA/strain_by_allele_binary_PA.csv', \n",
    "    amr_path='../../../data_PA/strain_by_amr_PA.csv', \n",
    "    antibiotic='levofloxacin', \n",
    "    gene_path='../../../data_PA/strain_by_gene_PA.csv', core_cutoff=10)"
   ]
  },
  {
   "cell_type": "code",
   "execution_count": 37,
   "metadata": {},
   "outputs": [
    {
     "name": "stdout",
     "output_type": "stream",
     "text": [
      "1 loop, best of 3: 26.9 s per loop\n"
     ]
    }
   ],
   "source": [
    "%%timeit\n",
    "ensemble = ml_gwas_dev.RSE(num_models=16, bootstrap_instances=0.8, bootstrap_features=0.5)\n",
    "ensemble.fit(df_features_PA.values, df_amr_PA)"
   ]
  },
  {
   "cell_type": "code",
   "execution_count": 38,
   "metadata": {},
   "outputs": [
    {
     "name": "stdout",
     "output_type": "stream",
     "text": [
      "Sampling instances and features...\n",
      "Training models...\n"
     ]
    },
    {
     "name": "stderr",
     "output_type": "stream",
     "text": [
      "[Parallel(n_jobs=16)]: Using backend ThreadingBackend with 16 concurrent workers.\n",
      "[Parallel(n_jobs=16)]: Done   3 out of  16 | elapsed:   22.2s remaining:  1.6min\n",
      "[Parallel(n_jobs=16)]: Done  12 out of  16 | elapsed:   22.2s remaining:    7.4s\n",
      "[Parallel(n_jobs=16)]: Done  16 out of  16 | elapsed:   23.0s finished\n"
     ]
    }
   ],
   "source": [
    "''' joblib: prefer=threads '''\n",
    "reload(ml_gwas_dev)\n",
    "ensemble = ml_gwas_dev.RSE(num_models=16, bootstrap_instances=0.8, bootstrap_features=0.5)\n",
    "ensemble.fit_parallel(df_features_PA.values, df_amr_PA, cores=16)"
   ]
  },
  {
   "cell_type": "code",
   "execution_count": 40,
   "metadata": {},
   "outputs": [
    {
     "name": "stdout",
     "output_type": "stream",
     "text": [
      "Sampling instances and features...\n",
      "Training models...\n"
     ]
    },
    {
     "name": "stderr",
     "output_type": "stream",
     "text": [
      "[Parallel(n_jobs=16)]: Using backend LokyBackend with 16 concurrent workers.\n",
      "[Parallel(n_jobs=16)]: Done   3 out of  16 | elapsed:   20.9s remaining:  1.5min\n",
      "[Parallel(n_jobs=16)]: Done  12 out of  16 | elapsed:   25.4s remaining:    8.5s\n",
      "[Parallel(n_jobs=16)]: Done  16 out of  16 | elapsed:   27.0s finished\n"
     ]
    }
   ],
   "source": [
    "''' joblib: prefer=processes '''\n",
    "reload(ml_gwas_dev)\n",
    "ensemble = ml_gwas_dev.RSE(num_models=16, bootstrap_instances=0.8, bootstrap_features=0.5)\n",
    "ensemble.fit_parallel(df_features_PA.values, df_amr_PA, cores=16)"
   ]
  },
  {
   "cell_type": "code",
   "execution_count": 42,
   "metadata": {},
   "outputs": [
    {
     "name": "stdout",
     "output_type": "stream",
     "text": [
      "Sampling instances and features...\n",
      "Training models...\n"
     ]
    },
    {
     "name": "stderr",
     "output_type": "stream",
     "text": [
      "[Parallel(n_jobs=16)]: Using backend LokyBackend with 16 concurrent workers.\n",
      "[Parallel(n_jobs=16)]: Done   3 out of  16 | elapsed:   28.2s remaining:  2.0min\n",
      "[Parallel(n_jobs=16)]: Done  12 out of  16 | elapsed:   32.4s remaining:   10.8s\n",
      "[Parallel(n_jobs=16)]: Done  16 out of  16 | elapsed:   34.3s finished\n"
     ]
    }
   ],
   "source": [
    "''' joblib: reset CPU affinity '''\n",
    "reload(ml_gwas_dev)\n",
    "ensemble = ml_gwas_dev.RSE(num_models=16, bootstrap_instances=0.8, bootstrap_features=0.5)\n",
    "ensemble.fit_parallel(df_features_PA.values, df_amr_PA, cores=16)"
   ]
  },
  {
   "cell_type": "code",
   "execution_count": 43,
   "metadata": {},
   "outputs": [
    {
     "name": "stdout",
     "output_type": "stream",
     "text": [
      "Sampling instances and features...\n",
      "Training models...\n"
     ]
    },
    {
     "name": "stderr",
     "output_type": "stream",
     "text": [
      "[Parallel(n_jobs=16)]: Using backend LokyBackend with 16 concurrent workers.\n",
      "[Parallel(n_jobs=16)]: Done   3 out of  16 | elapsed:   24.2s remaining:  1.7min\n",
      "[Parallel(n_jobs=16)]: Done  12 out of  16 | elapsed:   28.4s remaining:    9.5s\n",
      "[Parallel(n_jobs=16)]: Done  16 out of  16 | elapsed:   30.3s finished\n"
     ]
    }
   ],
   "source": [
    "''' joblib '''\n",
    "reload(ml_gwas_dev)\n",
    "ensemble = ml_gwas_dev.RSE(num_models=16, bootstrap_instances=0.8, bootstrap_features=0.5)\n",
    "ensemble.fit_parallel(df_features_PA.values, df_amr_PA, cores=16)"
   ]
  },
  {
   "cell_type": "code",
   "execution_count": 44,
   "metadata": {},
   "outputs": [
    {
     "name": "stdout",
     "output_type": "stream",
     "text": [
      "Sampling instances and features...\n",
      "Training models...\n"
     ]
    },
    {
     "name": "stderr",
     "output_type": "stream",
     "text": [
      "[Parallel(n_jobs=16)]: Using backend LokyBackend with 16 concurrent workers.\n",
      "[Parallel(n_jobs=16)]: Done  18 out of  32 | elapsed:   47.0s remaining:   36.5s\n",
      "[Parallel(n_jobs=16)]: Done  32 out of  32 | elapsed:   49.3s finished\n"
     ]
    }
   ],
   "source": [
    "ensemble = ml_gwas_dev.RSE(num_models=32, bootstrap_instances=0.8, bootstrap_features=0.5)\n",
    "ensemble.fit_parallel(df_features_PA.values, df_amr_PA, cores=16)"
   ]
  },
  {
   "cell_type": "code",
   "execution_count": 45,
   "metadata": {},
   "outputs": [
    {
     "name": "stdout",
     "output_type": "stream",
     "text": [
      "Sampling instances and features...\n",
      "Training models...\n"
     ]
    },
    {
     "name": "stderr",
     "output_type": "stream",
     "text": [
      "[Parallel(n_jobs=16)]: Using backend LokyBackend with 16 concurrent workers.\n",
      "[Parallel(n_jobs=16)]: Done   9 tasks      | elapsed:   55.9s\n",
      "[Parallel(n_jobs=16)]: Done  64 out of  64 | elapsed:  1.8min finished\n"
     ]
    }
   ],
   "source": [
    "ensemble = ml_gwas_dev.RSE(num_models=64, bootstrap_instances=0.8, bootstrap_features=0.5)\n",
    "ensemble.fit_parallel(df_features_PA.values, df_amr_PA, cores=16)"
   ]
  },
  {
   "cell_type": "code",
   "execution_count": 49,
   "metadata": {},
   "outputs": [
    {
     "name": "stdout",
     "output_type": "stream",
     "text": [
      "Sampling instances and features...\n",
      "Training models...\n"
     ]
    },
    {
     "name": "stderr",
     "output_type": "stream",
     "text": [
      "[Parallel(n_jobs=16)]: Using backend LokyBackend with 16 concurrent workers.\n",
      "[Parallel(n_jobs=16)]: Done   9 tasks      | elapsed:    7.2s\n",
      "[Parallel(n_jobs=16)]: Done  64 out of  64 | elapsed:   13.7s finished\n"
     ]
    }
   ],
   "source": [
    "''' joblib + CSR sparsify '''\n",
    "reload(ml_gwas_dev)\n",
    "ensemble = ml_gwas_dev.RSE(num_models=64, bootstrap_instances=0.8, bootstrap_features=0.5)\n",
    "ensemble.fit_parallel(df_features_PA.values, df_amr_PA, cores=16)"
   ]
  },
  {
   "cell_type": "markdown",
   "metadata": {},
   "source": [
    "## Revisiting with sparse matrices"
   ]
  },
  {
   "cell_type": "code",
   "execution_count": 50,
   "metadata": {},
   "outputs": [
    {
     "name": "stdout",
     "output_type": "stream",
     "text": [
      "Sampling instances and features...\n",
      "Training models...\n"
     ]
    },
    {
     "name": "stderr",
     "output_type": "stream",
     "text": [
      "[Parallel(n_jobs=8)]: Using backend LokyBackend with 8 concurrent workers.\n",
      "[Parallel(n_jobs=8)]: Done 108 tasks      | elapsed:    2.9s\n",
      "[Parallel(n_jobs=8)]: Done 500 out of 500 | elapsed:   11.1s finished\n"
     ]
    }
   ],
   "source": [
    "''' S. aureus dataset '''\n",
    "reload(ml_gwas_dev)\n",
    "ensemble = ml_gwas_dev.RSE(num_models=500, bootstrap_instances=0.8, bootstrap_features=0.5)\n",
    "ensemble.fit_parallel(df_features.values, df_amr.values, cores=8)"
   ]
  },
  {
   "cell_type": "code",
   "execution_count": 51,
   "metadata": {},
   "outputs": [
    {
     "name": "stdout",
     "output_type": "stream",
     "text": [
      "Sampling instances and features...\n",
      "Training models...\n"
     ]
    },
    {
     "name": "stderr",
     "output_type": "stream",
     "text": [
      "[Parallel(n_jobs=16)]: Using backend LokyBackend with 16 concurrent workers.\n",
      "[Parallel(n_jobs=16)]: Done   9 tasks      | elapsed:    4.8s\n",
      "[Parallel(n_jobs=16)]: Done 130 tasks      | elapsed:   21.5s\n",
      "[Parallel(n_jobs=16)]: Done 333 tasks      | elapsed:   43.9s\n",
      "[Parallel(n_jobs=16)]: Done 500 out of 500 | elapsed:   59.5s finished\n"
     ]
    }
   ],
   "source": [
    "''' P. aeruginosa dataset '''\n",
    "reload(ml_gwas_dev)\n",
    "ensemble = ml_gwas_dev.RSE(num_models=500, bootstrap_instances=0.8, bootstrap_features=0.5)\n",
    "ensemble.fit_parallel(df_features_PA.values, df_amr_PA, cores=16)"
   ]
  },
  {
   "cell_type": "code",
   "execution_count": 53,
   "metadata": {},
   "outputs": [
    {
     "name": "stdout",
     "output_type": "stream",
     "text": [
      "Non-core genes: (1588, 37162)\n",
      "Core-gene alleles: (1588, 152264)\n",
      "Feature table: (1588, 189426)\n"
     ]
    }
   ],
   "source": [
    "''' E. coli dataset '''\n",
    "df_features_EC, df_amr_EC = ml_gwas_dev.__prepare_amr_data__(\n",
    "    allele_table_path='../../../data_EC/strain_by_allele_binary_EC.csv', \n",
    "    amr_path='../../../data_EC/strain_by_amr_EC.csv', \n",
    "    antibiotic='ciprofloxacin', \n",
    "    gene_path='../../../data_EC/strain_by_gene_filtered_EC.csv', core_cutoff=10)"
   ]
  },
  {
   "cell_type": "code",
   "execution_count": 54,
   "metadata": {},
   "outputs": [
    {
     "name": "stdout",
     "output_type": "stream",
     "text": [
      "Sampling instances and features...\n",
      "Training models...\n"
     ]
    },
    {
     "name": "stderr",
     "output_type": "stream",
     "text": [
      "[Parallel(n_jobs=16)]: Using backend LokyBackend with 16 concurrent workers.\n",
      "[Parallel(n_jobs=16)]: Done   9 tasks      | elapsed:   13.5s\n",
      "[Parallel(n_jobs=16)]: Done  64 out of  64 | elapsed:   26.0s finished\n"
     ]
    }
   ],
   "source": [
    "''' E. coli dataset, try 64 models '''\n",
    "reload(ml_gwas_dev)\n",
    "ensemble = ml_gwas_dev.RSE(num_models=64, bootstrap_instances=0.8, bootstrap_features=0.5)\n",
    "ensemble.fit_parallel(df_features_EC.values, df_amr_EC, cores=16)"
   ]
  },
  {
   "cell_type": "code",
   "execution_count": 56,
   "metadata": {},
   "outputs": [
    {
     "name": "stdout",
     "output_type": "stream",
     "text": [
      "Sampling instances and features...\n",
      "Training models...\n"
     ]
    },
    {
     "name": "stderr",
     "output_type": "stream",
     "text": [
      "[Parallel(n_jobs=16)]: Using backend LokyBackend with 16 concurrent workers.\n",
      "[Parallel(n_jobs=16)]: Done   9 tasks      | elapsed:   13.2s\n",
      "[Parallel(n_jobs=16)]: Done 130 tasks      | elapsed:   57.5s\n",
      "[Parallel(n_jobs=16)]: Done 333 tasks      | elapsed:  2.2min\n",
      "[Parallel(n_jobs=16)]: Done 500 out of 500 | elapsed:  3.1min finished\n"
     ]
    }
   ],
   "source": [
    "''' E. coli dataset, try original 500 models '''\n",
    "reload(ml_gwas_dev)\n",
    "ensemble = ml_gwas_dev.RSE(num_models=500, bootstrap_instances=0.8, bootstrap_features=0.5)\n",
    "ensemble.fit_parallel(df_features_EC.values, df_amr_EC, cores=16)"
   ]
  },
  {
   "cell_type": "code",
   "execution_count": 60,
   "metadata": {},
   "outputs": [
    {
     "data": {
      "text/plain": [
       "(189426, 500)"
      ]
     },
     "execution_count": 60,
     "metadata": {},
     "output_type": "execute_result"
    }
   ],
   "source": [
    "ensemble.selected_features.shape"
   ]
  },
  {
   "cell_type": "code",
   "execution_count": null,
   "metadata": {
    "collapsed": true
   },
   "outputs": [],
   "source": []
  }
 ],
 "metadata": {
  "kernelspec": {
   "display_name": "Python 2",
   "language": "python",
   "name": "python2"
  },
  "language_info": {
   "codemirror_mode": {
    "name": "ipython",
    "version": 2
   },
   "file_extension": ".py",
   "mimetype": "text/x-python",
   "name": "python",
   "nbconvert_exporter": "python",
   "pygments_lexer": "ipython2",
   "version": "2.7.14"
  }
 },
 "nbformat": 4,
 "nbformat_minor": 2
}
